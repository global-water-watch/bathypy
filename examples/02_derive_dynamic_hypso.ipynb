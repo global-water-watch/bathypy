{
 "cells": [
  {
   "attachments": {},
   "cell_type": "markdown",
   "metadata": {},
   "source": [
    "# Derive hypsometry using IceSAT-2 methods for a local reservoir\n",
    "\n",
    "This script computes the hypsometric curve extracted from paired icesat2 and water surface area estimates based on a shapefile geometry for a given arbitrary reservoir.\n",
    "Both Icesat ATL08 or ATL03 can be used to derive the hypsometry. ATL08 is further processed than ATL03. For the differences, we refer to https://icesat-2.gsfc.nasa.gov/science/data-products.\n",
    "\n",
    "Important to understand is that a part of this processing, i.e. the retrieval of water surface areas at or around dates of overpass of ICESat-2, is done on Google Earth Engine. The steps are roughly:\n",
    "\n",
    "1. Define a polygon of interest, roughly encapsulating the reservoir of interest\n",
    "2. Retrieve ICESat-2 overpass data (for ATL03 or ATL08) for the reservoir of interest\n",
    "3. Send the ICESat-2 data to Google Earth Engine (GEE)\n",
    "4. @GEE, retrieve surface water area for the polygon of interest for the overpass dates of ICESat-2\n",
    "5. ...\n",
    "\n",
    "Let's start with loading all packages and libraries we may need."
   ]
  },
  {
   "cell_type": "code",
   "execution_count": null,
   "metadata": {},
   "outputs": [],
   "source": [
    "import gwwstorage\n",
    "from gwwstorage.surface import get_waterbody\n",
    "from shapely.geometry import Point, Polygon, MultiPolygon\n",
    "from shapely import unary_union\n",
    "from tqdm import tqdm\n",
    "import pandas as pd\n",
    "import geopandas as gpd\n",
    "import numpy as np\n",
    "import matplotlib.pyplot as plt\n",
    "import pandas as pd\n",
    "import matplotlib\n",
    "import ee\n",
    "import geemap\n",
    "import datetime\n",
    "import json\n",
    "ee.Initialize()"
   ]
  },
  {
   "cell_type": "markdown",
   "metadata": {},
   "source": [
    "### Get a polygon of interest\n",
    "Below a polygon if interest is loaded in memory and converted into a Earth Engine FeatureCollection"
   ]
  },
  {
   "cell_type": "code",
   "execution_count": null,
   "metadata": {},
   "outputs": [],
   "source": [
    "reservoir_poly = gpd.read_file(r'..\\examples\\datasets\\talave_reservoir.geojson')\n",
    "reservoir_poly = gpd.GeoDataFrame(data={\"fid\": [0], \"geometry\": reservoir_poly.geometry}, crs=4326)\n",
    "reservoir = ee.FeatureCollection(json.loads(reservoir_poly.to_json())).first()\n",
    "reservoir_poly.plot()"
   ]
  },
  {
   "cell_type": "markdown",
   "metadata": {},
   "source": [
    "### Get a polygon of interest from the Global Water Watch feature collection\n",
    "Below we use the global water watch feature collection to obtain the same reservoir"
   ]
  },
  {
   "cell_type": "code",
   "execution_count": null,
   "metadata": {},
   "outputs": [],
   "source": [
    "# id = '85008'\n",
    "from gwwstorage import gww_requests  # gww_requests provides access to the global water watch database. Used to get a polygon of a reservoir\n",
    "from shapely.geometry import shape\n",
    "reservoir_id = 88643 #Mita Hills, Zambia. Or any other ID.\n",
    "response = gww_requests.get_reservoir(reservoir_id)\n",
    "polygon = shape(response.json()[\"geometry\"])\n",
    "reservoir_poly = gpd.GeoDataFrame(data={\"fid\": [0], \"geometry\": polygon}, crs=4326)\n",
    "# send reservoir to google earth engine\n",
    "reservoir = ee.FeatureCollection(json.loads(reservoir_poly.to_json())).first()\n",
    "reservoir_poly.plot()"
   ]
  },
  {
   "cell_type": "markdown",
   "metadata": {},
   "source": [
    "### Retrieve ICESat-2 overpass data\n",
    "We have an automated approach to retrieve ICESat-2 data, that exactly overpasses the reservoir, with some buffer. The data is stored in a regular pandas DataFrame. Below we call this functionality for our reservoir of choice. We convert the pandas DataFrame into a geodataframe for convenience of plotting. Please note that this will take some time to process as it requires several calls to the IceSAT-2 API.\n"
   ]
  },
  {
   "cell_type": "code",
   "execution_count": null,
   "metadata": {},
   "outputs": [],
   "source": [
    "#### Extract ICESAT2_overpasses\n",
    "# Get Icesat2 data for feature\n",
    "df = gwwstorage.icesat2.get_icesat2_data(\n",
    "    aoi=reservoir_poly,\n",
    "    icesat2_product='atl08'\n",
    ")\n",
    "\n",
    "df_gpd = gpd.GeoDataFrame(df, geometry=gpd.points_from_xy(df.longitude, df.latitude))\n",
    "df_gpd['date'] = [datetime.datetime.fromtimestamp(s/1000).strftime(\"%Y-%m-%d\") for s in df_gpd['system:time_start']]\n",
    "df_gpd['lon'] = df_gpd['longitude']\n",
    "df_gpd['lat'] = df_gpd['latitude']"
   ]
  },
  {
   "cell_type": "markdown",
   "metadata": {},
   "source": [
    "### Plot the ICESat-2 tracks per date on a simple axes"
   ]
  },
  {
   "cell_type": "code",
   "execution_count": null,
   "metadata": {},
   "outputs": [],
   "source": [
    "fig = plt.figure(figsize=(16, 9))\n",
    "ax = fig.gca()\n",
    "reservoir_poly.boundary.plot(ax=ax, color='blue', linewidth=2)\n",
    "\n",
    "# Coloring the points associated with each date\n",
    "unique_dates = df_gpd['date'].unique()  # Get unique dates from the DataFrame\n",
    "\n",
    "# Assign a color to each unique date\n",
    "color_map = plt.cm.get_cmap('tab10', len(unique_dates))\n",
    "\n",
    "# Iterate over unique dates and plot points with associated color\n",
    "for i, date in enumerate(unique_dates):\n",
    "    df_date = df_gpd[df_gpd['date'] == date]  # Filter DataFrame for a specific date\n",
    "    ax.scatter(df_date['lon'], df_date['lat'], color=color_map(i), label=date)\n",
    "\n",
    "# Add a legend to the plot\n",
    "ax.legend()\n",
    "\n"
   ]
  },
  {
   "cell_type": "markdown",
   "metadata": {},
   "source": [
    "### Move the ICESat-2 tracks to Earth Engine\n",
    "The ICESat-2 tracks are now locally available in-memory. Now we need to retrieve water surface area estimates for the reservoir in the same (or nearly the same) overpass dates. For this, we need to move the ICESat-2 track data to Earth Engine. Below we do this by converting the tracks into a Earth Engine FeatureCollection\n"
   ]
  },
  {
   "cell_type": "code",
   "execution_count": null,
   "metadata": {},
   "outputs": [],
   "source": [
    "featureCollection_icesat2 = ee.FeatureCollection(\n",
    "    json.loads(\n",
    "        df_gpd.to_json()\n",
    "    )\n",
    ")"
   ]
  },
  {
   "cell_type": "markdown",
   "metadata": {},
   "source": [
    "### Retrieve satellite images that are within the time span of the retrieved ICESat-2 overpasses\n",
    "This is done by calling functionality within GEE that concatenates Landsat-8 and Sentinel-2 image collections. You can therefore expect images from both satellite missions in the results. The scale is set to 100 meters."
   ]
  },
  {
   "cell_type": "code",
   "execution_count": null,
   "metadata": {},
   "outputs": [],
   "source": [
    "clean_images: ee.ImageCollection = gwwstorage.storage.get_waterbody_images(\n",
    "    waterbody=reservoir.geometry(),\n",
    "    start=(datetime.datetime.fromtimestamp(df['system:time_start'].min()/1000)).strftime(\"%Y-%m-%d\"),\n",
    "    stop=(datetime.datetime.fromtimestamp(df['system:time_start'].max()/1000)).strftime(\"%Y-%m-%d\"),\n",
    "    scale=100,\n",
    "    mostly_clean=True\n",
    ")"
   ]
  },
  {
   "cell_type": "markdown",
   "metadata": {},
   "source": [
    "### Check out a random image from the collection\n",
    "You will see that one image over the area of interest is collected."
   ]
  },
  {
   "cell_type": "code",
   "execution_count": null,
   "metadata": {},
   "outputs": [],
   "source": [
    "Map = geemap.Map()\n",
    "# select bands to plot as RGB and their scale\n",
    "vis = {'bands': ['red', 'green', 'blue'], 'min': 0, 'max': 0.3, 'gamma': 1.4}\n",
    "Map.addLayer(clean_images.first(), vis, \"first image\")\n",
    "waterbody = ee.Feature(reservoir)\n",
    "Map.addLayer(waterbody, {}, \"reservoir\")\n",
    "Map\n"
   ]
  },
  {
   "cell_type": "markdown",
   "metadata": {},
   "source": [
    "### Retrieving the image pairs\n",
    "The clean images are now filtered for images that can be paired with the ICESat-2 tracks, and for each pair, a hypsometric point is established. Below we use a maximum window in time around each ICESat-2 track of 10 days. We also do not subsample the ICESat-2 tracks. If you consider the code to be slow, you may alter `subsample_is2_frac` to a lower value. E.g. `subsample_is2_frac=0.1` means only 10% of the ICESat-2 points are used. This part of the notebook may take significant time as many satellite data have to be number-crunched."
   ]
  },
  {
   "cell_type": "code",
   "execution_count": null,
   "metadata": {},
   "outputs": [],
   "source": [
    "df_is2, hypso_points = gwwstorage.storage.get_watermasks_icesat2(\n",
    "    clean_images=clean_images,\n",
    "    icesatdataframe=df_gpd,\n",
    "    waterbody=ee.Feature(reservoir),\n",
    "    max_time_window=10,\n",
    "    subsample_is2_frac=0.1\n",
    ")"
   ]
  },
  {
   "cell_type": "markdown",
   "metadata": {},
   "source": [
    "### plot the hypsometric points in a simple axes\n",
    "Below we have a first look at the results."
   ]
  },
  {
   "cell_type": "code",
   "execution_count": null,
   "metadata": {},
   "outputs": [],
   "source": [
    "plt.figure()\n",
    "plt.scatter(\n",
    "    hypso_points.water_area,\n",
    "    hypso_points.h,\n",
    "    c='k'\n",
    ")\n",
    "plt.xlabel(\"Surface area [m2]\")\n",
    "plt.ylabel(\"Water level [m + WGS84] \")\n",
    "plt.grid(linestyle=\"--\")"
   ]
  },
  {
   "cell_type": "markdown",
   "metadata": {},
   "source": [
    "### retrieve a hyspometric relationship fitted through the points\n",
    "We use the static hypsometry methods to derive a relationship. Here we also derive a fit with the function\n",
    "\n",
    "$A(h) = a\\left(h-h_0\\right)^b$"
   ]
  },
  {
   "cell_type": "code",
   "execution_count": null,
   "metadata": {},
   "outputs": [],
   "source": [
    "from gwwstorage.static_hypso import Hypsometry\n",
    "hypso = Hypsometry(\n",
    "    water_level=hypso_points.h.values,\n",
    "    area=hypso_points.water_area.values\n",
    ")\n"
   ]
  },
  {
   "cell_type": "code",
   "execution_count": null,
   "metadata": {},
   "outputs": [],
   "source": [
    "f, (ax1, ax2, ax3) = plt.subplots(nrows=1, ncols=3, figsize=(16, 7))\n",
    "hypso.plot(ax=ax1)\n",
    "hypso.plot(x=\"water_level\", y=\"volume\", ax=ax2)\n",
    "hypso.plot(x=\"area\", y=\"volume\", ax=ax3)\n"
   ]
  },
  {
   "cell_type": "markdown",
   "metadata": {},
   "source": [
    "### Store hypsometric points to a file\n",
    "We can store the hypsometry relationship to a file for later use."
   ]
  },
  {
   "cell_type": "code",
   "execution_count": null,
   "metadata": {},
   "outputs": [],
   "source": [
    "hypso.to_file(\"dynamic_hypso.csv\")"
   ]
  }
 ],
 "metadata": {
  "kernelspec": {
   "display_name": "Python 3 (ipykernel)",
   "language": "python",
   "name": "python3"
  },
  "language_info": {
   "codemirror_mode": {
    "name": "ipython",
    "version": 3
   },
   "file_extension": ".py",
   "mimetype": "text/x-python",
   "name": "python",
   "nbconvert_exporter": "python",
   "pygments_lexer": "ipython3",
   "version": "3.11.5"
  }
 },
 "nbformat": 4,
 "nbformat_minor": 4
}
