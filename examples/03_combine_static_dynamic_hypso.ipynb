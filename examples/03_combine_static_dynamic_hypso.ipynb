{
 "cells": [
  {
   "cell_type": "markdown",
   "id": "aa9b362b-2e43-4754-aad0-ea64e5179864",
   "metadata": {},
   "source": [
    "# Combining the static and dynamic methods for hypsometric relationships\n",
    "In the first two notebooks, demonstrations were shown of how to derive hypsometric relationships through either static elevation datasets (notebook 01) or dynamic elevation from ICESat-2 (notebook 02). But why not use the strengths of both methods in case valid points are obtained for each method?\n",
    "\n",
    "In this notebook we will load back the results and combine the results of both analyses into one hypsometric relationship. The points were pre-calculated so even if you did not run notebooks 01 and 02, you can run this notebook.\n"
   ]
  },
  {
   "cell_type": "code",
   "execution_count": null,
   "id": "cae990a4-c438-432d-b834-9986d1a6ba1a",
   "metadata": {},
   "outputs": [],
   "source": [
    "import matplotlib.pyplot as plt\n",
    "import numpy as np\n",
    "import pandas as pd\n",
    "from gwwstorage.static_hypso import Hypsometry\n",
    "from scipy.interpolate import interp1d"
   ]
  },
  {
   "cell_type": "markdown",
   "id": "68e104cc-56bd-4bd2-9a62-7e96d3d0cba1",
   "metadata": {},
   "source": [
    "### Load hypsometric points from the same reservoir, as derived from static and dynamic methods.\n",
    "Let us first load the results back in memory so that we can investigate what these look like together"
   ]
  },
  {
   "cell_type": "code",
   "execution_count": null,
   "id": "0ff07f55-8bcf-4a1b-979c-8a925e36b920",
   "metadata": {},
   "outputs": [],
   "source": [
    "static_fn = \"datasets/static_hypso.csv\"\n",
    "dynamic_fn = \"datasets/dynamic_hypso.csv\"\n",
    "df_static = pd.read_csv(static_fn)\n",
    "df_dynamic = pd.read_csv(dynamic_fn)\n",
    "ax = plt.subplot()\n",
    "df_static.plot(y=\"water_level\", x=\"surface_area\", ax=ax, marker=\"x\", linewidth=0., label=\"static (MERIT-Hydro)\")\n",
    "df_dynamic.plot(y=\"water_level\", x=\"surface_area\", ax=ax, marker=\"o\", linewidth=0., label=\"dynamic (ICESat-2)\")\n",
    "ax.grid(linestyle=\"--\")\n",
    "ax.set_ylabel(\"Water level [m]\")\n",
    "ax.set_xlabel(\"Surface area [m2]\")\n",
    "ax.set_title(\"Hypsometric relationships Mita Hills -Zambia\")\n"
   ]
  },
  {
   "cell_type": "markdown",
   "id": "47f48082-d5bf-415b-9692-c316d76e47b3",
   "metadata": {},
   "source": [
    "### Estimate offset between both methods\n",
    "Ok, this is problematic. Both curves have roughly the same shape, but now the problem is that there are offsets between the two. These may be due to several reasons. Below we hypothesize on a few possible reasons\n",
    "1. The elevation of the ICESat-2 altimetry points is related to the WGS84 ellipsoid according to the NASA documentation. However, the elevation of MERIT-Hydro is related to the EGM96 geoid. This creates offsets between the two that are not constant in place and work over the y-axis.\n",
    "2. Our surface area calculations used to form elevation - surface area pairs (dot plot above) are perhaps overestimating surface area causing an offset on the x-axis.\n",
    "3. There is other bias in either one of the methods causing some sort of offset.\n",
    "\n",
    "Hence we need to make some assumptions in order to decide how to combine the two sets of points. We here assume the following:\n",
    "1. Most of the bias is in the water level, hence we assume that differences in estimated surface area between the two methods are negligible.\n",
    "2. A constant offset in water level may be assumed. This follows from the fact that the datums used for the static MERIT-Hydro and dynamic ICESat-2 are different.\n",
    "3. At lower bathymetric levels (compared to the highest on record) the dynamic hypsometric points are more trustworthy as these are based on actual observations, while the static hyposmetry has to entirely rely on geomorphological assumptions.\n",
    "\n",
    "There is no one size fits all solution to treating the combination. So we'll use some overlap between the two series to decide on the offset. To implement these assumptions we do the following:\n",
    "\n",
    "First, we select a overlapping part of the points where we assume both methods give good estimates. This is likely in the upper part of the graph. Hence we select points that are above 50% of the range between lowest and highest surface area acoording to the static bathymetry points.\n"
   ]
  },
  {
   "cell_type": "code",
   "execution_count": null,
   "id": "cdeaae39-8ce9-4e8e-823c-0c8eede151df",
   "metadata": {},
   "outputs": [],
   "source": [
    "# sort the dynamic points on surface area\n",
    "area_thres = df_dynamic[\"surface_area\"].min() + 0.5*(df_dynamic[\"surface_area\"].max() - df_dynamic[\"surface_area\"].min())\n",
    "area_thres\n",
    "df_dyn_overlap = df_dynamic[df_dynamic[\"surface_area\"] > area_thres]\n",
    "df_stat_overlap = df_static[df_static[\"surface_area\"] > area_thres]\n",
    "\n",
    "\n",
    "# df_dyn_sort\n",
    "# df_static"
   ]
  },
  {
   "cell_type": "markdown",
   "id": "69d7fcda-9a0b-480a-98b7-e2b4f72ac00c",
   "metadata": {},
   "source": [
    "We use the overlapping points to map the dynamic water levels to the static. We use a piece-wise interpolation function to map the values aginst each other and compute an average offset $H_{offset}$. This offset is used to make both series commensurate against each other. We compute this below and plot the results.\n"
   ]
  },
  {
   "cell_type": "code",
   "execution_count": null,
   "id": "e7a43d3a-29df-4d06-9e94-2b58157692d5",
   "metadata": {},
   "outputs": [],
   "source": [
    "# create interp function to match levels\n",
    "f = interp1d(df_stat_overlap[\"surface_area\"], df_stat_overlap[\"water_level\"], fill_value=\"extrapolate\")\n",
    "\n",
    "# map dynamic against static\n",
    "df_dyn_overlap[\"water_level_mapped\"] = f(df_dyn_overlap[\"surface_area\"])\n",
    "\n",
    "# compute the average offset between the original and mapped water levels\n",
    "h_offset = (df_dyn_overlap[\"water_level_mapped\"] - df_dyn_overlap[\"water_level\"]).mean()\n",
    "\n",
    "# compute corrected water level\n",
    "df_dynamic[\"water_level_corr\"] = df_dynamic[\"water_level\"] + h_offset\n",
    "\n",
    "ax = plt.subplot()\n",
    "df_stat_overlap.plot(y=\"water_level\", x=\"surface_area\", ax=ax, marker=\"x\", linewidth=0., label=\"static (MERIT-Hydro)\")\n",
    "df_dynamic.plot(y=\"water_level_corr\", x=\"surface_area\", ax=ax, marker=\"o\", linewidth=0., label=\"dynamic (ICESat-2), datum-corrected\")\n",
    "ax.grid(linestyle=\"--\")\n",
    "ax.set_ylabel(\"Water level [m]\")\n",
    "ax.set_xlabel(\"Surface area [m2]\")\n",
    "ax.set_title(\"Hypsometric relationships Mita Hills -Zambia\")\n",
    "\n"
   ]
  },
  {
   "cell_type": "markdown",
   "id": "b7355170-e558-43ee-913c-9c14517b85a5",
   "metadata": {},
   "source": [
    "### Make a new Hypsometry instance and show its behaviour"
   ]
  },
  {
   "cell_type": "code",
   "execution_count": null,
   "id": "41cd038a-546c-441a-b039-64946d53bf71",
   "metadata": {},
   "outputs": [],
   "source": [
    "water_level_combi = np.array(list(df_stat_overlap.water_level.values) + list(df_dynamic.water_level_corr.values))\n",
    "surface_area_combi = np.array(list(df_stat_overlap.surface_area.values) + list(df_dynamic.surface_area.values))\n",
    "hypso_combined = Hypsometry(\n",
    "    water_level=water_level_combi,\n",
    "    area=surface_area_combi\n",
    ")\n",
    "hypso_combined.plot()"
   ]
  }
 ],
 "metadata": {
  "kernelspec": {
   "display_name": "Python 3 (ipykernel)",
   "language": "python",
   "name": "python3"
  },
  "language_info": {
   "codemirror_mode": {
    "name": "ipython",
    "version": 3
   },
   "file_extension": ".py",
   "mimetype": "text/x-python",
   "name": "python",
   "nbconvert_exporter": "python",
   "pygments_lexer": "ipython3",
   "version": "3.11.5"
  }
 },
 "nbformat": 4,
 "nbformat_minor": 5
}
