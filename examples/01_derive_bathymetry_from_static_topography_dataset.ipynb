{
 "cells": [
  {
   "cell_type": "markdown",
   "metadata": {},
   "source": [
    "### Derive bathymetry and hypsometry from a static topography dataset\n",
    "This notebook demonstrates the entire process to get a bathymetric dataset for a lake with a clear outflow point such as a dam. The notebook uses two classes to explain the entire process, and uses an example dataset, delivered along with this repository.\n",
    "\n",
    "Let's start with loading in several subpackages."
   ]
  },
  {
   "cell_type": "code",
   "execution_count": null,
   "metadata": {},
   "outputs": [],
   "source": [
    "from bathypy.static_hypso import Bathymetry  # this is the class demonstrated in this notebook\n",
    "from bathypy import gww_requests  # gww_requests provides access to the global water watch database. Used to get a polygon of a reservoir\n",
    "import xarray as xr  # xarray is the main data crunching library used for the functionalities\n",
    "from shapely.geometry import shape\n",
    "import geemap\n",
    "import geopandas as gpd\n",
    "import matplotlib.pyplot as plt\n",
    "import ipyleaflet\n",
    "import json"
   ]
  },
  {
   "cell_type": "markdown",
   "metadata": {},
   "source": [
    "### Get a polygon of interes\n",
    "Now that we have our libraries setup, let's first get a polygon of the lake we are interested in. In our case, we retrieve this\n",
    "from our Global Water Watch database through the API, using a reservoir id. You can also simply load in a shapefile and extract the geometry. As long as you end up with a shapely.geometry.Polygon or MultiPolygon as object, you are in good shape."
   ]
  },
  {
   "cell_type": "code",
   "execution_count": null,
   "metadata": {},
   "outputs": [],
   "source": [
    "reservoir_id = 88643 #Mita Hills, Zambia. Or any other ID.\n",
    "response = gww_requests.get_reservoir(reservoir_id)\n",
    "polygon = shape(response.json()[\"geometry\"])\n",
    "polygon\n"
   ]
  },
  {
   "cell_type": "markdown",
   "metadata": {},
   "source": [
    "This polygon has a logical location on the globe. Let's plot that\n",
    "\n"
   ]
  },
  {
   "cell_type": "code",
   "execution_count": null,
   "metadata": {},
   "outputs": [],
   "source": [
    "xy = polygon.centroid.xy[1][0], polygon.centroid.xy[0][0]\n",
    "xy"
   ]
  },
  {
   "cell_type": "code",
   "execution_count": null,
   "metadata": {},
   "outputs": [],
   "source": [
    "Map = ipyleaflet.Map(center=xy, zoom=9)\n",
    "# Map = geemap.Map(center=xy, zoom=10)"
   ]
  },
  {
   "cell_type": "code",
   "execution_count": null,
   "metadata": {},
   "outputs": [],
   "source": [
    "gdf = gpd.GeoDataFrame({\"id\": [reservoir_id]}, geometry=[polygon])\n",
    "gdf.to_file(\"Mita_Hills.geojson\")\n",
    "layer = ipyleaflet.GeoJSON(data=json.loads(gdf.to_json()))\n",
    "Map.add(layer)"
   ]
  },
  {
   "cell_type": "markdown",
   "metadata": {},
   "source": [
    "### Make a Bathymetry object, starting with the reservoir polygon\n",
    "This only starts an object with a simple polygon."
   ]
  },
  {
   "cell_type": "code",
   "execution_count": null,
   "metadata": {},
   "outputs": [],
   "source": [
    "bath = Bathymetry(polygon)"
   ]
  },
  {
   "cell_type": "markdown",
   "metadata": {},
   "source": [
    "We need to supply a topography dataset with the bathymetry object. If you have a HydroMT data catalog available, you can retrieve this with the method ``get_topography_from_hydromt`` with the first input the .yml file of your data catalog. As keyword ``path_or_key`` you should then supply the name of the dataset containing terrain, flow directions, slopes, and so on. We recommend supplying a buffer of 30 grid cells (``buffer=30``) to ensure you have an area slightly larger than the reservoir polygon. The polygon will be used to find the area of interest. Below a commented example is provided."
   ]
  },
  {
   "cell_type": "code",
   "execution_count": null,
   "metadata": {},
   "outputs": [],
   "source": [
    "# # get data from hydroMT, and clip the data to the area_fit extend of the reservoir\n",
    "# data_catalog = \"./example_catalog.yml\"\n",
    "# bath.get_topography_from_hydromt(\n",
    "#     data_catalog,\n",
    "#     add_flow_direction=False,\n",
    "#     add_derivatives=False,\n",
    "#     add_mask=False,\n",
    "#     path_or_key=\"merit_hydro\",\n",
    "#     buffer=30\n",
    "# )\n"
   ]
  },
  {
   "cell_type": "markdown",
   "metadata": {},
   "source": [
    "An alternative is that you already have a prepared dataset with topography layers in a file. For this example, we will use a prepared dataset cut out of MERIT-Hydro, prepared using HydroMT. It covers the area around the polygon supplied."
   ]
  },
  {
   "cell_type": "code",
   "execution_count": null,
   "metadata": {},
   "outputs": [],
   "source": [
    "fn = \"datasets/topo_mita.nc\"\n",
    "# open the data with normal xarray functionality\n",
    "ds = xr.open_dataset(fn)\n",
    "# add dataset to topography\n",
    "bath.set_topography(ds)\n",
    "bath.ds_topography"
   ]
  },
  {
   "cell_type": "markdown",
   "metadata": {},
   "source": [
    "You can see that the dataset is added as a property in ``ds_topography``. A number of compulsory layers must be present, which all are available in the MERIT-Hydro dataset. The required layers are:\n",
    "\n",
    "``elevtn``: elevation [m]\n",
    "``lndslp``: local slope [-]\n",
    "``flwdir``: 8D flow network in a format compatible with the ``pyflwdir`` package (see https://deltares.github.io/pyflwdir/latest/index.html)\n",
    "``uparea``: upstream area [m2]\n",
    "``strord``: strahler stream order [-]\n",
    "\n",
    "Furthermore some additional layers are added on-the-fly such as ``bathymetry``. Also the ``flwdir`` layer will be translated to a flow intelligent layer automatically when adding the dataset. With normal xarray functionalities, we can plot layers."
   ]
  },
  {
   "cell_type": "code",
   "execution_count": null,
   "metadata": {},
   "outputs": [],
   "source": [
    "f = plt.figure(figsize=(6, 6))\n",
    "bath.ds_topography[\"bathymetry\"].plot()"
   ]
  },
  {
   "cell_type": "markdown",
   "metadata": {},
   "source": [
    "This layer contains the topography data, with the reservoir area filtered out. A nicer plot can be made with the ``plot_topo`` method, which only works if there are no missing values in the field. The original elevation layer of MERIT-Hydro is a good example."
   ]
  },
  {
   "cell_type": "code",
   "execution_count": null,
   "metadata": {},
   "outputs": [],
   "source": [
    "bath.plot_topo(field=\"elevtn\")"
   ]
  },
  {
   "cell_type": "markdown",
   "metadata": {},
   "source": [
    "There are several methods to fill missing values in the ``bathymetry`` layer. An obvious one is ``interp`` which simply interpolates all values with a 2D interpolation method. If applied directly this will yield more or less the same result as our original elevation, as interpolation will occur from shore to shore. Hence, we first need elevation values somewhere in the middle of the reservoir. We use the ``skeletonize_bathymetry`` method to establish this. It will create a skeleton of elevation values from the shoreline that contains elevation, to the most downstream point where the missing area stops and elevation values are available. This process can be repeated starting with the largest strahler stream order found, that bounds the missing area, then moving to lower stream orders consecutively. Elevation values are filled using the method by Messager et al. (2016).\n",
    "\n",
    "\n",
    "$dh(x) = ix ^b$\n",
    "\n",
    "where $dh$ is the difference in elevation between shore and a point of interest along the stream under consideration, $i$ is the slope at the shore, $x$ the distance from the shoreline and $b$ a power that defines the reduction of the increase in water level difference with distance.\n",
    "\n",
    "The equation is solved over the stream network using an 8D river network, therefore it is important that a data layer ``flwdir`` is available in the topography dataset. Let's apply the skeletonization for 5 stream orders.\n"
   ]
  },
  {
   "cell_type": "code",
   "execution_count": null,
   "metadata": {},
   "outputs": [],
   "source": [
    "bath.skeletonize_bathymetry(iter=5)\n"
   ]
  },
  {
   "cell_type": "markdown",
   "metadata": {},
   "source": [
    "The bathymetry should now contain more data. Let's use ``xarray`` plotting to visualize what we have. We make the figure larger to ensure we can see the stream pixels."
   ]
  },
  {
   "cell_type": "code",
   "execution_count": null,
   "metadata": {},
   "outputs": [],
   "source": [
    "f = plt.figure(figsize=(14, 12))\n",
    "bath.ds_topography[\"bathymetry\"].plot()"
   ]
  },
  {
   "cell_type": "markdown",
   "metadata": {},
   "source": [
    "You should see that the stream network within the masked areas is now filled with elevation values. Also smaller streams are filled and even streams with yet again smaller stream orders."
   ]
  },
  {
   "cell_type": "markdown",
   "metadata": {},
   "source": [
    "### plot transect of stream elevation\n",
    "There is also a special function that plots the behaviour of the elevation over the main stream. This is useful to investigate if the dam wall has been properly detected. Below we plot both the original elevation and the modified bathymetry in this way."
   ]
  },
  {
   "cell_type": "code",
   "execution_count": null,
   "metadata": {},
   "outputs": [],
   "source": [
    "\n",
    "ax = plt.axes()\n",
    "bath.plot_along_stream(ax=ax, field=\"bathymetry\")\n",
    "bath.plot_along_stream(ax=ax, field=\"elevtn\")\n"
   ]
  },
  {
   "cell_type": "markdown",
   "metadata": {},
   "source": [
    "The plot shows that the dam wall was automatically found, but that the bottom profile does not yet properly connect to the original river profile downstream of the dam. We can reposition the location from which we mask out upstream values with a property called ``downstream_reservoir``. By default this is set to zero, which then positions that location as closely downstream of the dam location as possible. We can also set that to 500 meters for instance. Let's do the processing again, but now with a 500 meter downstream displacement."
   ]
  },
  {
   "cell_type": "code",
   "execution_count": null,
   "metadata": {},
   "outputs": [],
   "source": [
    "bath = Bathymetry(polygon, downstream_reservoir=500)\n",
    "# set the topo\n",
    "bath.set_topography(ds)\n",
    "bath.skeletonize_bathymetry(iter=5)\n",
    "ax = plt.axes()\n",
    "bath.plot_along_stream(ax=ax, field=\"bathymetry\")\n",
    "bath.plot_along_stream(ax=ax, field=\"elevtn\")\n"
   ]
  },
  {
   "cell_type": "markdown",
   "metadata": {},
   "source": [
    "This looks more realistic. But at this stage all the in between areas are not yet available. Just calling the ``interpolate`` method fills in the blancs. We can apply a number of extra keywords to enhance shading. These are passed to ``matplotlib.colors.LightSource.shade``. Please look at the documentation to see which keyword arguments you can pass."
   ]
  },
  {
   "cell_type": "code",
   "execution_count": null,
   "metadata": {},
   "outputs": [],
   "source": [
    "f, (ax1, ax2) = plt.subplots(nrows=1, ncols=2)\n",
    "bath.interpolate()\n",
    "bath.plot_topo(\n",
    "    ax=ax1,\n",
    "    field=\"elevtn\",\n",
    "    vert_exag=20,\n",
    "    blend_mode=\"soft\"\n",
    ")\n",
    "bath.plot_topo(\n",
    "    ax=ax2,\n",
    "    field=\"bathymetry\",\n",
    "    vert_exag=20,\n",
    "    blend_mode=\"soft\"\n",
    ")"
   ]
  },
  {
   "cell_type": "markdown",
   "metadata": {},
   "source": [
    "The right-side shows our interpreted bathymetry. It looks like a pretty natural bathymetry. We can now retrieve a hypsometry object from this. Hypsometry describes the geometrical relationships between elevation, surface area and (through integration) volume. A hypsometry object can be created by sampling elevation values and the associated surface area that is inundated according to the bathymetry with these elevation values. A relationship between surface area and elevation can then be fitted, which can be used to predict a geometric variable from another geometric variable.\n",
    "\n",
    "The hypsometric relationship between surface area and elevation is described by.\n",
    "\n",
    "$A(h) = a\\left(h-h_0\\right)^b$\n",
    "\n",
    "This functionality is encapsulated in the ``Hypsometry`` class. A hypsometry object can be directly derived from a ``Bathymetry`` object with the ``get_hypsometry`` method. You can define the vertical resolution over which to sample, and extend the sampling to above the dam wall if you wish so. "
   ]
  },
  {
   "cell_type": "code",
   "execution_count": null,
   "metadata": {},
   "outputs": [],
   "source": [
    "hypso = bath.get_hypsometry(add_to_max_h=0., resolution=1.)\n",
    "hypso"
   ]
  },
  {
   "cell_type": "markdown",
   "metadata": {},
   "source": [
    "The hypsometry relationship has some convenience plotting functions, with which we can plot the different variables on the x or y axis."
   ]
  },
  {
   "cell_type": "code",
   "execution_count": null,
   "metadata": {},
   "outputs": [],
   "source": [
    "f, (ax1, ax2, ax3) = plt.subplots(nrows=1, ncols=3, figsize=(16, 7))\n",
    "hypso.plot(ax=ax1)\n",
    "hypso.plot(x=\"water_level\", y=\"volume\", ax=ax2)\n",
    "hypso.plot(x=\"area\", y=\"volume\", ax=ax3)\n",
    "\n"
   ]
  },
  {
   "cell_type": "markdown",
   "metadata": {},
   "source": [
    "### properties and methods of the hypsometry\n",
    "The hypsometry relationship has several properties that are useful to explore. Below we print examples of these. The comments describe what the different properties and methods do."
   ]
  },
  {
   "cell_type": "code",
   "execution_count": null,
   "metadata": {},
   "outputs": [],
   "source": [
    "# print the parameters of the fitted relationship\n",
    "print(hypso.power_law_params)\n",
    "# estimate some surface areas from water levels\n",
    "wl = [1100, 1105]\n",
    "areas = hypso.area_from_wl([1100, 1105])\n",
    "print(f\"area from water levels {wl}: {areas}\")\n",
    "# translate areas back to water levels\n",
    "wl2 = hypso.wl_from_area(areas)\n",
    "print(f\"water levels from areas {areas}: {wl2}\")\n",
    "vol = hypso.volume_from_wl(wl)\n",
    "# volume from the commensurate areas should be the same\n",
    "vol2 = hypso.volume_from_area(areas)\n",
    "print(f\"Volumes computed from water levels: {vol}\")\n",
    "print(f\"Volumes computed from areas (should be the same as from water levels): {vol2}\")\n",
    "      "
   ]
  },
  {
   "cell_type": "markdown",
   "metadata": {},
   "source": [
    "### Store hypsometric points to a file\n",
    "We can store the hypsometry relationship to a file for later use."
   ]
  },
  {
   "cell_type": "code",
   "execution_count": null,
   "metadata": {},
   "outputs": [],
   "source": [
    "hypso.to_file(\"static_hypso.csv\")"
   ]
  }
 ],
 "metadata": {
  "kernelspec": {
   "display_name": "Python 3 (ipykernel)",
   "language": "python",
   "name": "python3"
  },
  "language_info": {
   "codemirror_mode": {
    "name": "ipython",
    "version": 3
   },
   "file_extension": ".py",
   "mimetype": "text/x-python",
   "name": "python",
   "nbconvert_exporter": "python",
   "pygments_lexer": "ipython3",
   "version": "3.11.5"
  },
  "vscode": {
   "interpreter": {
    "hash": "651f3d31288735120958aa715e0901c76c31a68502a5e5bc1c88fef0ecb83d52"
   }
  }
 },
 "nbformat": 4,
 "nbformat_minor": 4
}
